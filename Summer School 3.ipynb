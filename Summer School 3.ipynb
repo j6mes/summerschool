{
 "cells": [
  {
   "cell_type": "markdown",
   "id": "b4acf759",
   "metadata": {},
   "source": [
    "# Knowledge Intensive NLP Summer School\n",
    "\n",
    "## Notebook 3\n",
    "\n",
    "The goals of this notebook are:\n",
    "\n",
    "* Train a T5 notebook for SQuAD task\n",
    "* Evaluate what happens when context isn't used\n",
    "* Explore the Fusion in Decoder model \n",
    "\n",
    "\n",
    "## Resources\n",
    "You can find help for the HuggingFace library from their website: \n",
    "\n",
    "* T5 https://huggingface.co/docs/transformers/model_doc/t5\n",
    "* Datasets https://huggingface.co/docs/datasets/index\n",
    "\n",
    "## Tutorial\n",
    "\n",
    "This notebook is based on the following tutorials:\n",
    "\n",
    "* Fine-tuning https://huggingface.co/docs/transformers/training\n",
    "* Language Generation https://ai.googleblog.com/2020/02/exploring-transfer-learning-with-t5.html\n"
   ]
  },
  {
   "cell_type": "markdown",
   "id": "6b2cadca",
   "metadata": {},
   "source": [
    "# Prelude\n",
    "\n",
    "The following code will use the SQuAD dataset and train a model to predict an answer given a question and passage. Have a look at it and familiarize yourself"
   ]
  },
  {
   "cell_type": "code",
   "execution_count": 1,
   "id": "f00aec96",
   "metadata": {
    "scrolled": true
   },
   "outputs": [
    {
     "name": "stdout",
     "output_type": "stream",
     "text": [
      "Requirement already satisfied: xfact in ./miniconda3/envs/summerschool/lib/python3.8/site-packages (0.3.56)\n",
      "Requirement already satisfied: urllib3==1.26.12 in ./miniconda3/envs/summerschool/lib/python3.8/site-packages (from xfact) (1.26.12)\n",
      "Requirement already satisfied: requests==2.28.1 in ./miniconda3/envs/summerschool/lib/python3.8/site-packages (from xfact) (2.28.1)\n",
      "Requirement already satisfied: transformers in ./miniconda3/envs/summerschool/lib/python3.8/site-packages (from xfact) (4.30.2)\n",
      "Requirement already satisfied: fever-drqa==1.0.13 in ./miniconda3/envs/summerschool/lib/python3.8/site-packages (from xfact) (1.0.13)\n",
      "Requirement already satisfied: scikit-learn==1.1.3 in ./miniconda3/envs/summerschool/lib/python3.8/site-packages (from xfact) (1.1.3)\n",
      "Requirement already satisfied: comet-ml==3.31.21 in ./miniconda3/envs/summerschool/lib/python3.8/site-packages (from xfact) (3.31.21)\n",
      "Requirement already satisfied: overrides==7.3.1 in ./miniconda3/envs/summerschool/lib/python3.8/site-packages (from xfact) (7.3.1)\n",
      "Requirement already satisfied: jsonschema!=3.1.0,>=2.6.0 in ./miniconda3/envs/summerschool/lib/python3.8/site-packages (from comet-ml==3.31.21->xfact) (4.17.3)\n",
      "Requirement already satisfied: requests-toolbelt>=0.8.0 in ./miniconda3/envs/summerschool/lib/python3.8/site-packages (from comet-ml==3.31.21->xfact) (1.0.0)\n",
      "Requirement already satisfied: semantic-version>=2.8.0 in ./miniconda3/envs/summerschool/lib/python3.8/site-packages (from comet-ml==3.31.21->xfact) (2.10.0)\n",
      "Requirement already satisfied: sentry-sdk>=1.1.0 in ./miniconda3/envs/summerschool/lib/python3.8/site-packages (from comet-ml==3.31.21->xfact) (1.27.0)\n",
      "Requirement already satisfied: simplejson in ./miniconda3/envs/summerschool/lib/python3.8/site-packages (from comet-ml==3.31.21->xfact) (3.19.1)\n",
      "Requirement already satisfied: six in ./miniconda3/envs/summerschool/lib/python3.8/site-packages (from comet-ml==3.31.21->xfact) (1.16.0)\n",
      "Requirement already satisfied: websocket-client<1.4.0,>=0.55.0 in ./miniconda3/envs/summerschool/lib/python3.8/site-packages (from comet-ml==3.31.21->xfact) (1.3.3)\n",
      "Requirement already satisfied: wrapt>=1.11.2 in ./miniconda3/envs/summerschool/lib/python3.8/site-packages (from comet-ml==3.31.21->xfact) (1.15.0)\n",
      "Requirement already satisfied: wurlitzer>=1.0.2 in ./miniconda3/envs/summerschool/lib/python3.8/site-packages (from comet-ml==3.31.21->xfact) (3.0.3)\n",
      "Requirement already satisfied: everett[ini]>=1.0.1 in ./miniconda3/envs/summerschool/lib/python3.8/site-packages (from comet-ml==3.31.21->xfact) (3.2.0)\n",
      "Requirement already satisfied: dulwich!=0.20.33,>=0.20.6 in ./miniconda3/envs/summerschool/lib/python3.8/site-packages (from comet-ml==3.31.21->xfact) (0.21.5)\n",
      "Requirement already satisfied: numpy in ./miniconda3/envs/summerschool/lib/python3.8/site-packages (from fever-drqa==1.0.13->xfact) (1.24.4)\n",
      "Requirement already satisfied: termcolor in ./miniconda3/envs/summerschool/lib/python3.8/site-packages (from fever-drqa==1.0.13->xfact) (2.3.0)\n",
      "Requirement already satisfied: regex in ./miniconda3/envs/summerschool/lib/python3.8/site-packages (from fever-drqa==1.0.13->xfact) (2023.6.3)\n",
      "Requirement already satisfied: tqdm in ./miniconda3/envs/summerschool/lib/python3.8/site-packages (from fever-drqa==1.0.13->xfact) (4.65.0)\n",
      "Requirement already satisfied: prettytable in ./miniconda3/envs/summerschool/lib/python3.8/site-packages (from fever-drqa==1.0.13->xfact) (3.8.0)\n",
      "Requirement already satisfied: scipy in ./miniconda3/envs/summerschool/lib/python3.8/site-packages (from fever-drqa==1.0.13->xfact) (1.10.1)\n",
      "Requirement already satisfied: nltk in ./miniconda3/envs/summerschool/lib/python3.8/site-packages (from fever-drqa==1.0.13->xfact) (3.8.1)\n",
      "Requirement already satisfied: pexpect in ./miniconda3/envs/summerschool/lib/python3.8/site-packages (from fever-drqa==1.0.13->xfact) (4.8.0)\n",
      "Requirement already satisfied: charset-normalizer<3,>=2 in ./miniconda3/envs/summerschool/lib/python3.8/site-packages (from requests==2.28.1->xfact) (2.1.1)\n",
      "Requirement already satisfied: idna<4,>=2.5 in ./miniconda3/envs/summerschool/lib/python3.8/site-packages (from requests==2.28.1->xfact) (3.4)\n",
      "Requirement already satisfied: certifi>=2017.4.17 in ./miniconda3/envs/summerschool/lib/python3.8/site-packages (from requests==2.28.1->xfact) (2023.5.7)\n",
      "Requirement already satisfied: joblib>=1.0.0 in ./miniconda3/envs/summerschool/lib/python3.8/site-packages (from scikit-learn==1.1.3->xfact) (1.3.1)\n",
      "Requirement already satisfied: threadpoolctl>=2.0.0 in ./miniconda3/envs/summerschool/lib/python3.8/site-packages (from scikit-learn==1.1.3->xfact) (3.1.0)\n",
      "Requirement already satisfied: filelock in ./miniconda3/envs/summerschool/lib/python3.8/site-packages (from transformers->xfact) (3.12.2)\n",
      "Requirement already satisfied: huggingface-hub<1.0,>=0.14.1 in ./miniconda3/envs/summerschool/lib/python3.8/site-packages (from transformers->xfact) (0.15.1)\n",
      "Requirement already satisfied: packaging>=20.0 in ./miniconda3/envs/summerschool/lib/python3.8/site-packages (from transformers->xfact) (23.1)\n",
      "Requirement already satisfied: pyyaml>=5.1 in ./miniconda3/envs/summerschool/lib/python3.8/site-packages (from transformers->xfact) (6.0)\n",
      "Requirement already satisfied: tokenizers!=0.11.3,<0.14,>=0.11.1 in ./miniconda3/envs/summerschool/lib/python3.8/site-packages (from transformers->xfact) (0.13.3)\n",
      "Requirement already satisfied: safetensors>=0.3.1 in ./miniconda3/envs/summerschool/lib/python3.8/site-packages (from transformers->xfact) (0.3.1)\n",
      "Requirement already satisfied: configobj in ./miniconda3/envs/summerschool/lib/python3.8/site-packages (from everett[ini]>=1.0.1->comet-ml==3.31.21->xfact) (5.0.8)\n",
      "Requirement already satisfied: fsspec in ./miniconda3/envs/summerschool/lib/python3.8/site-packages (from huggingface-hub<1.0,>=0.14.1->transformers->xfact) (2023.6.0)\n",
      "Requirement already satisfied: typing-extensions>=3.7.4.3 in ./miniconda3/envs/summerschool/lib/python3.8/site-packages (from huggingface-hub<1.0,>=0.14.1->transformers->xfact) (4.7.1)\n",
      "Requirement already satisfied: attrs>=17.4.0 in ./miniconda3/envs/summerschool/lib/python3.8/site-packages (from jsonschema!=3.1.0,>=2.6.0->comet-ml==3.31.21->xfact) (23.1.0)\n",
      "Requirement already satisfied: importlib-resources>=1.4.0 in ./miniconda3/envs/summerschool/lib/python3.8/site-packages (from jsonschema!=3.1.0,>=2.6.0->comet-ml==3.31.21->xfact) (5.12.0)\n",
      "Requirement already satisfied: pkgutil-resolve-name>=1.3.10 in ./miniconda3/envs/summerschool/lib/python3.8/site-packages (from jsonschema!=3.1.0,>=2.6.0->comet-ml==3.31.21->xfact) (1.3.10)\n",
      "Requirement already satisfied: pyrsistent!=0.17.0,!=0.17.1,!=0.17.2,>=0.14.0 in ./miniconda3/envs/summerschool/lib/python3.8/site-packages (from jsonschema!=3.1.0,>=2.6.0->comet-ml==3.31.21->xfact) (0.19.3)\n",
      "Requirement already satisfied: click in ./miniconda3/envs/summerschool/lib/python3.8/site-packages (from nltk->fever-drqa==1.0.13->xfact) (8.1.3)\n",
      "Requirement already satisfied: ptyprocess>=0.5 in ./miniconda3/envs/summerschool/lib/python3.8/site-packages (from pexpect->fever-drqa==1.0.13->xfact) (0.7.0)\n",
      "Requirement already satisfied: wcwidth in ./miniconda3/envs/summerschool/lib/python3.8/site-packages (from prettytable->fever-drqa==1.0.13->xfact) (0.2.6)\n",
      "Requirement already satisfied: zipp>=3.1.0 in ./miniconda3/envs/summerschool/lib/python3.8/site-packages (from importlib-resources>=1.4.0->jsonschema!=3.1.0,>=2.6.0->comet-ml==3.31.21->xfact) (3.15.0)\n"
     ]
    }
   ],
   "source": [
    "!pip install xfact"
   ]
  },
  {
   "cell_type": "code",
   "execution_count": 2,
   "id": "fc78111e",
   "metadata": {},
   "outputs": [
    {
     "name": "stderr",
     "output_type": "stream",
     "text": [
      "comet_ml is installed but `COMET_API_KEY` is not set.\n"
     ]
    }
   ],
   "source": [
    "import logging\n",
    "import os\n",
    "import sys\n",
    "import transformers\n",
    "import datasets \n",
    "\n",
    "from transformers import (\n",
    "    AutoConfig,\n",
    "    AutoTokenizer,\n",
    "    HfArgumentParser,\n",
    "    Seq2SeqTrainingArguments,\n",
    "    set_seed, AutoModelForSeq2SeqLM,\n",
    "    AutoModelForSequenceClassification\n",
    ")\n",
    "from transformers import Seq2SeqTrainer\n",
    "from transformers.trainer_utils import get_last_checkpoint\n",
    "from transformers.utils import check_min_version\n",
    "from collections import defaultdict\n",
    "from operator import itemgetter\n",
    "\n",
    "from xfact.config.args import ModelArguments, DataTrainingArguments\n",
    "from xfact.logs.comet_callback import CometTrainingCallback\n",
    "from xfact.logs.logs import setup_logging\n",
    "from xfact.nlp.dataset import XFactDataset, XFactSeq2SeqDataset\n",
    "from xfact.nlp.model import ModelFactory\n",
    "from xfact.nlp.post_processing import PostProcessor\n",
    "from xfact.nlp.reader import Reader\n",
    "from xfact.nlp.scoring import Scorer\n",
    "from xfact.registry.module import import_submodules\n",
    "\n",
    "\n",
    "check_min_version(\"4.16.0\")\n",
    "logger = logging.getLogger(__name__)\n",
    "set_seed(1337)\n",
    "\n",
    "setup_logging(\"INFO\")\n",
    "transformers.utils.logging.set_verbosity(\"INFO\")\n",
    "transformers.utils.logging.enable_default_handler()\n",
    "transformers.utils.logging.enable_explicit_format()\n"
   ]
  },
  {
   "cell_type": "code",
   "execution_count": 3,
   "id": "9ccc4d67",
   "metadata": {},
   "outputs": [
    {
     "name": "stderr",
     "output_type": "stream",
     "text": [
      "[INFO|training_args.py:1267] 2023-07-05 16:09:40,323 >> Found safetensors installation, but --save_safetensors=False. Safetensors should be a preferred weights saving format due to security and performance reasons. If your model cannot be saved by safetensors please feel free to open an issue at https://github.com/huggingface/safetensors!\n",
      "[INFO|training_args.py:1669] 2023-07-05 16:09:40,324 >> PyTorch: setting up devices\n",
      "[INFO|training_args.py:1407] 2023-07-05 16:09:40,380 >> The default value for the training argument `--report_to` will change in v5 (from all installed integrations to none). In v5, you will need to use `--report_to all` to get the same behavior as now. You should start updating your code and make this info disappear :-).\n"
     ]
    }
   ],
   "source": [
    "model_args = ModelArguments(\n",
    "    model_name_or_path=\"t5-small\",\n",
    ")\n",
    "data_args = DataTrainingArguments(dataset=\"squad\",train_file=\"train\", validation_file=\"validation\")\n",
    "\n",
    "\n",
    "#NOTE SET MPS to False if error in training\n",
    "training_args = Seq2SeqTrainingArguments(\n",
    "    learning_rate=5e-5,\n",
    "    logging_steps=10,\n",
    "    logging_strategy=\"steps\",\n",
    "    eval_steps=10,\n",
    "    evaluation_strategy=\"steps\",\n",
    "    do_eval=True,\n",
    "    do_train=True,\n",
    "    output_dir=\"test\",\n",
    "    use_mps_device=True) "
   ]
  },
  {
   "cell_type": "code",
   "execution_count": 6,
   "id": "325b0ac1",
   "metadata": {},
   "outputs": [
    {
     "ename": "OSError",
     "evalue": "None is not a local folder and is not a valid model identifier listed on 'https://huggingface.co/models'\nIf this is a private repository, make sure to pass a token having permission to this repo with `use_auth_token` or log in with `huggingface-cli login` and pass `use_auth_token=True`.",
     "output_type": "error",
     "traceback": [
      "\u001b[0;31m---------------------------------------------------------------------------\u001b[0m",
      "\u001b[0;31mHTTPError\u001b[0m                                 Traceback (most recent call last)",
      "File \u001b[0;32m~/miniconda3/envs/summerschool/lib/python3.8/site-packages/huggingface_hub/utils/_errors.py:259\u001b[0m, in \u001b[0;36mhf_raise_for_status\u001b[0;34m(response, endpoint_name)\u001b[0m\n\u001b[1;32m    258\u001b[0m \u001b[38;5;28;01mtry\u001b[39;00m:\n\u001b[0;32m--> 259\u001b[0m     \u001b[43mresponse\u001b[49m\u001b[38;5;241;43m.\u001b[39;49m\u001b[43mraise_for_status\u001b[49m\u001b[43m(\u001b[49m\u001b[43m)\u001b[49m\n\u001b[1;32m    260\u001b[0m \u001b[38;5;28;01mexcept\u001b[39;00m HTTPError \u001b[38;5;28;01mas\u001b[39;00m e:\n",
      "File \u001b[0;32m~/miniconda3/envs/summerschool/lib/python3.8/site-packages/requests/models.py:1021\u001b[0m, in \u001b[0;36mResponse.raise_for_status\u001b[0;34m(self)\u001b[0m\n\u001b[1;32m   1020\u001b[0m \u001b[38;5;28;01mif\u001b[39;00m http_error_msg:\n\u001b[0;32m-> 1021\u001b[0m     \u001b[38;5;28;01mraise\u001b[39;00m HTTPError(http_error_msg, response\u001b[38;5;241m=\u001b[39m\u001b[38;5;28mself\u001b[39m)\n",
      "\u001b[0;31mHTTPError\u001b[0m: 401 Client Error: Unauthorized for url: https://huggingface.co/None/resolve/main/tokenizer_config.json",
      "\nThe above exception was the direct cause of the following exception:\n",
      "\u001b[0;31mRepositoryNotFoundError\u001b[0m                   Traceback (most recent call last)",
      "File \u001b[0;32m~/miniconda3/envs/summerschool/lib/python3.8/site-packages/transformers/utils/hub.py:417\u001b[0m, in \u001b[0;36mcached_file\u001b[0;34m(path_or_repo_id, filename, cache_dir, force_download, resume_download, proxies, use_auth_token, revision, local_files_only, subfolder, repo_type, user_agent, _raise_exceptions_for_missing_entries, _raise_exceptions_for_connection_errors, _commit_hash)\u001b[0m\n\u001b[1;32m    415\u001b[0m \u001b[38;5;28;01mtry\u001b[39;00m:\n\u001b[1;32m    416\u001b[0m     \u001b[38;5;66;03m# Load from URL or cache if already cached\u001b[39;00m\n\u001b[0;32m--> 417\u001b[0m     resolved_file \u001b[38;5;241m=\u001b[39m \u001b[43mhf_hub_download\u001b[49m\u001b[43m(\u001b[49m\n\u001b[1;32m    418\u001b[0m \u001b[43m        \u001b[49m\u001b[43mpath_or_repo_id\u001b[49m\u001b[43m,\u001b[49m\n\u001b[1;32m    419\u001b[0m \u001b[43m        \u001b[49m\u001b[43mfilename\u001b[49m\u001b[43m,\u001b[49m\n\u001b[1;32m    420\u001b[0m \u001b[43m        \u001b[49m\u001b[43msubfolder\u001b[49m\u001b[38;5;241;43m=\u001b[39;49m\u001b[38;5;28;43;01mNone\u001b[39;49;00m\u001b[43m \u001b[49m\u001b[38;5;28;43;01mif\u001b[39;49;00m\u001b[43m \u001b[49m\u001b[38;5;28;43mlen\u001b[39;49m\u001b[43m(\u001b[49m\u001b[43msubfolder\u001b[49m\u001b[43m)\u001b[49m\u001b[43m \u001b[49m\u001b[38;5;241;43m==\u001b[39;49m\u001b[43m \u001b[49m\u001b[38;5;241;43m0\u001b[39;49m\u001b[43m \u001b[49m\u001b[38;5;28;43;01melse\u001b[39;49;00m\u001b[43m \u001b[49m\u001b[43msubfolder\u001b[49m\u001b[43m,\u001b[49m\n\u001b[1;32m    421\u001b[0m \u001b[43m        \u001b[49m\u001b[43mrepo_type\u001b[49m\u001b[38;5;241;43m=\u001b[39;49m\u001b[43mrepo_type\u001b[49m\u001b[43m,\u001b[49m\n\u001b[1;32m    422\u001b[0m \u001b[43m        \u001b[49m\u001b[43mrevision\u001b[49m\u001b[38;5;241;43m=\u001b[39;49m\u001b[43mrevision\u001b[49m\u001b[43m,\u001b[49m\n\u001b[1;32m    423\u001b[0m \u001b[43m        \u001b[49m\u001b[43mcache_dir\u001b[49m\u001b[38;5;241;43m=\u001b[39;49m\u001b[43mcache_dir\u001b[49m\u001b[43m,\u001b[49m\n\u001b[1;32m    424\u001b[0m \u001b[43m        \u001b[49m\u001b[43muser_agent\u001b[49m\u001b[38;5;241;43m=\u001b[39;49m\u001b[43muser_agent\u001b[49m\u001b[43m,\u001b[49m\n\u001b[1;32m    425\u001b[0m \u001b[43m        \u001b[49m\u001b[43mforce_download\u001b[49m\u001b[38;5;241;43m=\u001b[39;49m\u001b[43mforce_download\u001b[49m\u001b[43m,\u001b[49m\n\u001b[1;32m    426\u001b[0m \u001b[43m        \u001b[49m\u001b[43mproxies\u001b[49m\u001b[38;5;241;43m=\u001b[39;49m\u001b[43mproxies\u001b[49m\u001b[43m,\u001b[49m\n\u001b[1;32m    427\u001b[0m \u001b[43m        \u001b[49m\u001b[43mresume_download\u001b[49m\u001b[38;5;241;43m=\u001b[39;49m\u001b[43mresume_download\u001b[49m\u001b[43m,\u001b[49m\n\u001b[1;32m    428\u001b[0m \u001b[43m        \u001b[49m\u001b[43muse_auth_token\u001b[49m\u001b[38;5;241;43m=\u001b[39;49m\u001b[43muse_auth_token\u001b[49m\u001b[43m,\u001b[49m\n\u001b[1;32m    429\u001b[0m \u001b[43m        \u001b[49m\u001b[43mlocal_files_only\u001b[49m\u001b[38;5;241;43m=\u001b[39;49m\u001b[43mlocal_files_only\u001b[49m\u001b[43m,\u001b[49m\n\u001b[1;32m    430\u001b[0m \u001b[43m    \u001b[49m\u001b[43m)\u001b[49m\n\u001b[1;32m    432\u001b[0m \u001b[38;5;28;01mexcept\u001b[39;00m RepositoryNotFoundError:\n",
      "File \u001b[0;32m~/miniconda3/envs/summerschool/lib/python3.8/site-packages/huggingface_hub/utils/_validators.py:118\u001b[0m, in \u001b[0;36mvalidate_hf_hub_args.<locals>._inner_fn\u001b[0;34m(*args, **kwargs)\u001b[0m\n\u001b[1;32m    116\u001b[0m     kwargs \u001b[38;5;241m=\u001b[39m smoothly_deprecate_use_auth_token(fn_name\u001b[38;5;241m=\u001b[39mfn\u001b[38;5;241m.\u001b[39m\u001b[38;5;18m__name__\u001b[39m, has_token\u001b[38;5;241m=\u001b[39mhas_token, kwargs\u001b[38;5;241m=\u001b[39mkwargs)\n\u001b[0;32m--> 118\u001b[0m \u001b[38;5;28;01mreturn\u001b[39;00m \u001b[43mfn\u001b[49m\u001b[43m(\u001b[49m\u001b[38;5;241;43m*\u001b[39;49m\u001b[43margs\u001b[49m\u001b[43m,\u001b[49m\u001b[43m \u001b[49m\u001b[38;5;241;43m*\u001b[39;49m\u001b[38;5;241;43m*\u001b[39;49m\u001b[43mkwargs\u001b[49m\u001b[43m)\u001b[49m\n",
      "File \u001b[0;32m~/miniconda3/envs/summerschool/lib/python3.8/site-packages/huggingface_hub/file_download.py:1195\u001b[0m, in \u001b[0;36mhf_hub_download\u001b[0;34m(repo_id, filename, subfolder, repo_type, revision, library_name, library_version, cache_dir, local_dir, local_dir_use_symlinks, user_agent, force_download, force_filename, proxies, etag_timeout, resume_download, token, local_files_only, legacy_cache_layout)\u001b[0m\n\u001b[1;32m   1194\u001b[0m \u001b[38;5;28;01mtry\u001b[39;00m:\n\u001b[0;32m-> 1195\u001b[0m     metadata \u001b[38;5;241m=\u001b[39m \u001b[43mget_hf_file_metadata\u001b[49m\u001b[43m(\u001b[49m\n\u001b[1;32m   1196\u001b[0m \u001b[43m        \u001b[49m\u001b[43murl\u001b[49m\u001b[38;5;241;43m=\u001b[39;49m\u001b[43murl\u001b[49m\u001b[43m,\u001b[49m\n\u001b[1;32m   1197\u001b[0m \u001b[43m        \u001b[49m\u001b[43mtoken\u001b[49m\u001b[38;5;241;43m=\u001b[39;49m\u001b[43mtoken\u001b[49m\u001b[43m,\u001b[49m\n\u001b[1;32m   1198\u001b[0m \u001b[43m        \u001b[49m\u001b[43mproxies\u001b[49m\u001b[38;5;241;43m=\u001b[39;49m\u001b[43mproxies\u001b[49m\u001b[43m,\u001b[49m\n\u001b[1;32m   1199\u001b[0m \u001b[43m        \u001b[49m\u001b[43mtimeout\u001b[49m\u001b[38;5;241;43m=\u001b[39;49m\u001b[43metag_timeout\u001b[49m\u001b[43m,\u001b[49m\n\u001b[1;32m   1200\u001b[0m \u001b[43m    \u001b[49m\u001b[43m)\u001b[49m\n\u001b[1;32m   1201\u001b[0m \u001b[38;5;28;01mexcept\u001b[39;00m EntryNotFoundError \u001b[38;5;28;01mas\u001b[39;00m http_error:\n\u001b[1;32m   1202\u001b[0m     \u001b[38;5;66;03m# Cache the non-existence of the file and raise\u001b[39;00m\n",
      "File \u001b[0;32m~/miniconda3/envs/summerschool/lib/python3.8/site-packages/huggingface_hub/utils/_validators.py:118\u001b[0m, in \u001b[0;36mvalidate_hf_hub_args.<locals>._inner_fn\u001b[0;34m(*args, **kwargs)\u001b[0m\n\u001b[1;32m    116\u001b[0m     kwargs \u001b[38;5;241m=\u001b[39m smoothly_deprecate_use_auth_token(fn_name\u001b[38;5;241m=\u001b[39mfn\u001b[38;5;241m.\u001b[39m\u001b[38;5;18m__name__\u001b[39m, has_token\u001b[38;5;241m=\u001b[39mhas_token, kwargs\u001b[38;5;241m=\u001b[39mkwargs)\n\u001b[0;32m--> 118\u001b[0m \u001b[38;5;28;01mreturn\u001b[39;00m \u001b[43mfn\u001b[49m\u001b[43m(\u001b[49m\u001b[38;5;241;43m*\u001b[39;49m\u001b[43margs\u001b[49m\u001b[43m,\u001b[49m\u001b[43m \u001b[49m\u001b[38;5;241;43m*\u001b[39;49m\u001b[38;5;241;43m*\u001b[39;49m\u001b[43mkwargs\u001b[49m\u001b[43m)\u001b[49m\n",
      "File \u001b[0;32m~/miniconda3/envs/summerschool/lib/python3.8/site-packages/huggingface_hub/file_download.py:1541\u001b[0m, in \u001b[0;36mget_hf_file_metadata\u001b[0;34m(url, token, proxies, timeout)\u001b[0m\n\u001b[1;32m   1532\u001b[0m r \u001b[38;5;241m=\u001b[39m _request_wrapper(\n\u001b[1;32m   1533\u001b[0m     method\u001b[38;5;241m=\u001b[39m\u001b[38;5;124m\"\u001b[39m\u001b[38;5;124mHEAD\u001b[39m\u001b[38;5;124m\"\u001b[39m,\n\u001b[1;32m   1534\u001b[0m     url\u001b[38;5;241m=\u001b[39murl,\n\u001b[0;32m   (...)\u001b[0m\n\u001b[1;32m   1539\u001b[0m     timeout\u001b[38;5;241m=\u001b[39mtimeout,\n\u001b[1;32m   1540\u001b[0m )\n\u001b[0;32m-> 1541\u001b[0m \u001b[43mhf_raise_for_status\u001b[49m\u001b[43m(\u001b[49m\u001b[43mr\u001b[49m\u001b[43m)\u001b[49m\n\u001b[1;32m   1543\u001b[0m \u001b[38;5;66;03m# Return\u001b[39;00m\n",
      "File \u001b[0;32m~/miniconda3/envs/summerschool/lib/python3.8/site-packages/huggingface_hub/utils/_errors.py:291\u001b[0m, in \u001b[0;36mhf_raise_for_status\u001b[0;34m(response, endpoint_name)\u001b[0m\n\u001b[1;32m    283\u001b[0m     message \u001b[38;5;241m=\u001b[39m (\n\u001b[1;32m    284\u001b[0m         \u001b[38;5;124mf\u001b[39m\u001b[38;5;124m\"\u001b[39m\u001b[38;5;132;01m{\u001b[39;00mresponse\u001b[38;5;241m.\u001b[39mstatus_code\u001b[38;5;132;01m}\u001b[39;00m\u001b[38;5;124m Client Error.\u001b[39m\u001b[38;5;124m\"\u001b[39m\n\u001b[1;32m    285\u001b[0m         \u001b[38;5;241m+\u001b[39m \u001b[38;5;124m\"\u001b[39m\u001b[38;5;130;01m\\n\u001b[39;00m\u001b[38;5;130;01m\\n\u001b[39;00m\u001b[38;5;124m\"\u001b[39m\n\u001b[0;32m   (...)\u001b[0m\n\u001b[1;32m    289\u001b[0m         \u001b[38;5;124m\"\u001b[39m\u001b[38;5;124m make sure you are authenticated.\u001b[39m\u001b[38;5;124m\"\u001b[39m\n\u001b[1;32m    290\u001b[0m     )\n\u001b[0;32m--> 291\u001b[0m     \u001b[38;5;28;01mraise\u001b[39;00m RepositoryNotFoundError(message, response) \u001b[38;5;28;01mfrom\u001b[39;00m \u001b[38;5;21;01me\u001b[39;00m\n\u001b[1;32m    293\u001b[0m \u001b[38;5;28;01melif\u001b[39;00m response\u001b[38;5;241m.\u001b[39mstatus_code \u001b[38;5;241m==\u001b[39m \u001b[38;5;241m400\u001b[39m:\n",
      "\u001b[0;31mRepositoryNotFoundError\u001b[0m: 401 Client Error. (Request ID: Root=1-64a579ba-49dde0e76181681a691bf057)\n\nRepository Not Found for url: https://huggingface.co/None/resolve/main/tokenizer_config.json.\nPlease make sure you specified the correct `repo_id` and `repo_type`.\nIf you are trying to access a private or gated repo, make sure you are authenticated.\nInvalid username or password.",
      "\nDuring handling of the above exception, another exception occurred:\n",
      "\u001b[0;31mOSError\u001b[0m                                   Traceback (most recent call last)",
      "Cell \u001b[0;32mIn[6], line 7\u001b[0m\n\u001b[1;32m      1\u001b[0m \u001b[38;5;66;03m# Load pretrained model and tokenizer\u001b[39;00m\n\u001b[1;32m      2\u001b[0m \u001b[38;5;66;03m#\u001b[39;00m\n\u001b[1;32m      3\u001b[0m \u001b[38;5;66;03m# Distributed training:\u001b[39;00m\n\u001b[1;32m      4\u001b[0m \u001b[38;5;66;03m# The .from_pretrained methods guarantee that only one local process can concurrently\u001b[39;00m\n\u001b[1;32m      5\u001b[0m \u001b[38;5;66;03m# download model & vocab.\u001b[39;00m\n\u001b[0;32m----> 7\u001b[0m tokenizer \u001b[38;5;241m=\u001b[39m \u001b[43mAutoTokenizer\u001b[49m\u001b[38;5;241;43m.\u001b[39;49m\u001b[43mfrom_pretrained\u001b[49m\u001b[43m(\u001b[49m\n\u001b[1;32m      8\u001b[0m \u001b[43m    \u001b[49m\u001b[43mmodel_args\u001b[49m\u001b[38;5;241;43m.\u001b[39;49m\u001b[43mtokenizer_name\u001b[49m\u001b[43m,\u001b[49m\n\u001b[1;32m      9\u001b[0m \u001b[43m    \u001b[49m\u001b[43mcache_dir\u001b[49m\u001b[38;5;241;43m=\u001b[39;49m\u001b[43mmodel_args\u001b[49m\u001b[38;5;241;43m.\u001b[39;49m\u001b[43mcache_dir\u001b[49m\u001b[43m,\u001b[49m\n\u001b[1;32m     10\u001b[0m \u001b[43m    \u001b[49m\u001b[43muse_fast\u001b[49m\u001b[38;5;241;43m=\u001b[39;49m\u001b[38;5;28;43;01mTrue\u001b[39;49;00m\u001b[43m,\u001b[49m\n\u001b[1;32m     11\u001b[0m \u001b[43m    \u001b[49m\u001b[43mrevision\u001b[49m\u001b[38;5;241;43m=\u001b[39;49m\u001b[43mmodel_args\u001b[49m\u001b[38;5;241;43m.\u001b[39;49m\u001b[43mmodel_revision\u001b[49m\u001b[43m,\u001b[49m\n\u001b[1;32m     12\u001b[0m \u001b[43m)\u001b[49m\n\u001b[1;32m     14\u001b[0m model \u001b[38;5;241m=\u001b[39m AutoModelForSeq2SeqLM\u001b[38;5;241m.\u001b[39mfrom_pretrained(\n\u001b[1;32m     15\u001b[0m     model_args\u001b[38;5;241m.\u001b[39mmodel_name_or_path,\n\u001b[1;32m     16\u001b[0m )\n",
      "File \u001b[0;32m~/miniconda3/envs/summerschool/lib/python3.8/site-packages/transformers/models/auto/tokenization_auto.py:643\u001b[0m, in \u001b[0;36mAutoTokenizer.from_pretrained\u001b[0;34m(cls, pretrained_model_name_or_path, *inputs, **kwargs)\u001b[0m\n\u001b[1;32m    640\u001b[0m     \u001b[38;5;28;01mreturn\u001b[39;00m tokenizer_class\u001b[38;5;241m.\u001b[39mfrom_pretrained(pretrained_model_name_or_path, \u001b[38;5;241m*\u001b[39minputs, \u001b[38;5;241m*\u001b[39m\u001b[38;5;241m*\u001b[39mkwargs)\n\u001b[1;32m    642\u001b[0m \u001b[38;5;66;03m# Next, let's try to use the tokenizer_config file to get the tokenizer class.\u001b[39;00m\n\u001b[0;32m--> 643\u001b[0m tokenizer_config \u001b[38;5;241m=\u001b[39m \u001b[43mget_tokenizer_config\u001b[49m\u001b[43m(\u001b[49m\u001b[43mpretrained_model_name_or_path\u001b[49m\u001b[43m,\u001b[49m\u001b[43m \u001b[49m\u001b[38;5;241;43m*\u001b[39;49m\u001b[38;5;241;43m*\u001b[39;49m\u001b[43mkwargs\u001b[49m\u001b[43m)\u001b[49m\n\u001b[1;32m    644\u001b[0m \u001b[38;5;28;01mif\u001b[39;00m \u001b[38;5;124m\"\u001b[39m\u001b[38;5;124m_commit_hash\u001b[39m\u001b[38;5;124m\"\u001b[39m \u001b[38;5;129;01min\u001b[39;00m tokenizer_config:\n\u001b[1;32m    645\u001b[0m     kwargs[\u001b[38;5;124m\"\u001b[39m\u001b[38;5;124m_commit_hash\u001b[39m\u001b[38;5;124m\"\u001b[39m] \u001b[38;5;241m=\u001b[39m tokenizer_config[\u001b[38;5;124m\"\u001b[39m\u001b[38;5;124m_commit_hash\u001b[39m\u001b[38;5;124m\"\u001b[39m]\n",
      "File \u001b[0;32m~/miniconda3/envs/summerschool/lib/python3.8/site-packages/transformers/models/auto/tokenization_auto.py:487\u001b[0m, in \u001b[0;36mget_tokenizer_config\u001b[0;34m(pretrained_model_name_or_path, cache_dir, force_download, resume_download, proxies, use_auth_token, revision, local_files_only, subfolder, **kwargs)\u001b[0m\n\u001b[1;32m    425\u001b[0m \u001b[38;5;250m\u001b[39m\u001b[38;5;124;03m\"\"\"\u001b[39;00m\n\u001b[1;32m    426\u001b[0m \u001b[38;5;124;03mLoads the tokenizer configuration from a pretrained model tokenizer configuration.\u001b[39;00m\n\u001b[1;32m    427\u001b[0m \n\u001b[0;32m   (...)\u001b[0m\n\u001b[1;32m    484\u001b[0m \u001b[38;5;124;03mtokenizer_config = get_tokenizer_config(\"tokenizer-test\")\u001b[39;00m\n\u001b[1;32m    485\u001b[0m \u001b[38;5;124;03m```\"\"\"\u001b[39;00m\n\u001b[1;32m    486\u001b[0m commit_hash \u001b[38;5;241m=\u001b[39m kwargs\u001b[38;5;241m.\u001b[39mget(\u001b[38;5;124m\"\u001b[39m\u001b[38;5;124m_commit_hash\u001b[39m\u001b[38;5;124m\"\u001b[39m, \u001b[38;5;28;01mNone\u001b[39;00m)\n\u001b[0;32m--> 487\u001b[0m resolved_config_file \u001b[38;5;241m=\u001b[39m \u001b[43mcached_file\u001b[49m\u001b[43m(\u001b[49m\n\u001b[1;32m    488\u001b[0m \u001b[43m    \u001b[49m\u001b[43mpretrained_model_name_or_path\u001b[49m\u001b[43m,\u001b[49m\n\u001b[1;32m    489\u001b[0m \u001b[43m    \u001b[49m\u001b[43mTOKENIZER_CONFIG_FILE\u001b[49m\u001b[43m,\u001b[49m\n\u001b[1;32m    490\u001b[0m \u001b[43m    \u001b[49m\u001b[43mcache_dir\u001b[49m\u001b[38;5;241;43m=\u001b[39;49m\u001b[43mcache_dir\u001b[49m\u001b[43m,\u001b[49m\n\u001b[1;32m    491\u001b[0m \u001b[43m    \u001b[49m\u001b[43mforce_download\u001b[49m\u001b[38;5;241;43m=\u001b[39;49m\u001b[43mforce_download\u001b[49m\u001b[43m,\u001b[49m\n\u001b[1;32m    492\u001b[0m \u001b[43m    \u001b[49m\u001b[43mresume_download\u001b[49m\u001b[38;5;241;43m=\u001b[39;49m\u001b[43mresume_download\u001b[49m\u001b[43m,\u001b[49m\n\u001b[1;32m    493\u001b[0m \u001b[43m    \u001b[49m\u001b[43mproxies\u001b[49m\u001b[38;5;241;43m=\u001b[39;49m\u001b[43mproxies\u001b[49m\u001b[43m,\u001b[49m\n\u001b[1;32m    494\u001b[0m \u001b[43m    \u001b[49m\u001b[43muse_auth_token\u001b[49m\u001b[38;5;241;43m=\u001b[39;49m\u001b[43muse_auth_token\u001b[49m\u001b[43m,\u001b[49m\n\u001b[1;32m    495\u001b[0m \u001b[43m    \u001b[49m\u001b[43mrevision\u001b[49m\u001b[38;5;241;43m=\u001b[39;49m\u001b[43mrevision\u001b[49m\u001b[43m,\u001b[49m\n\u001b[1;32m    496\u001b[0m \u001b[43m    \u001b[49m\u001b[43mlocal_files_only\u001b[49m\u001b[38;5;241;43m=\u001b[39;49m\u001b[43mlocal_files_only\u001b[49m\u001b[43m,\u001b[49m\n\u001b[1;32m    497\u001b[0m \u001b[43m    \u001b[49m\u001b[43msubfolder\u001b[49m\u001b[38;5;241;43m=\u001b[39;49m\u001b[43msubfolder\u001b[49m\u001b[43m,\u001b[49m\n\u001b[1;32m    498\u001b[0m \u001b[43m    \u001b[49m\u001b[43m_raise_exceptions_for_missing_entries\u001b[49m\u001b[38;5;241;43m=\u001b[39;49m\u001b[38;5;28;43;01mFalse\u001b[39;49;00m\u001b[43m,\u001b[49m\n\u001b[1;32m    499\u001b[0m \u001b[43m    \u001b[49m\u001b[43m_raise_exceptions_for_connection_errors\u001b[49m\u001b[38;5;241;43m=\u001b[39;49m\u001b[38;5;28;43;01mFalse\u001b[39;49;00m\u001b[43m,\u001b[49m\n\u001b[1;32m    500\u001b[0m \u001b[43m    \u001b[49m\u001b[43m_commit_hash\u001b[49m\u001b[38;5;241;43m=\u001b[39;49m\u001b[43mcommit_hash\u001b[49m\u001b[43m,\u001b[49m\n\u001b[1;32m    501\u001b[0m \u001b[43m\u001b[49m\u001b[43m)\u001b[49m\n\u001b[1;32m    502\u001b[0m \u001b[38;5;28;01mif\u001b[39;00m resolved_config_file \u001b[38;5;129;01mis\u001b[39;00m \u001b[38;5;28;01mNone\u001b[39;00m:\n\u001b[1;32m    503\u001b[0m     logger\u001b[38;5;241m.\u001b[39minfo(\u001b[38;5;124m\"\u001b[39m\u001b[38;5;124mCould not locate the tokenizer configuration file, will try to use the model config instead.\u001b[39m\u001b[38;5;124m\"\u001b[39m)\n",
      "File \u001b[0;32m~/miniconda3/envs/summerschool/lib/python3.8/site-packages/transformers/utils/hub.py:433\u001b[0m, in \u001b[0;36mcached_file\u001b[0;34m(path_or_repo_id, filename, cache_dir, force_download, resume_download, proxies, use_auth_token, revision, local_files_only, subfolder, repo_type, user_agent, _raise_exceptions_for_missing_entries, _raise_exceptions_for_connection_errors, _commit_hash)\u001b[0m\n\u001b[1;32m    417\u001b[0m     resolved_file \u001b[38;5;241m=\u001b[39m hf_hub_download(\n\u001b[1;32m    418\u001b[0m         path_or_repo_id,\n\u001b[1;32m    419\u001b[0m         filename,\n\u001b[0;32m   (...)\u001b[0m\n\u001b[1;32m    429\u001b[0m         local_files_only\u001b[38;5;241m=\u001b[39mlocal_files_only,\n\u001b[1;32m    430\u001b[0m     )\n\u001b[1;32m    432\u001b[0m \u001b[38;5;28;01mexcept\u001b[39;00m RepositoryNotFoundError:\n\u001b[0;32m--> 433\u001b[0m     \u001b[38;5;28;01mraise\u001b[39;00m \u001b[38;5;167;01mEnvironmentError\u001b[39;00m(\n\u001b[1;32m    434\u001b[0m         \u001b[38;5;124mf\u001b[39m\u001b[38;5;124m\"\u001b[39m\u001b[38;5;132;01m{\u001b[39;00mpath_or_repo_id\u001b[38;5;132;01m}\u001b[39;00m\u001b[38;5;124m is not a local folder and is not a valid model identifier \u001b[39m\u001b[38;5;124m\"\u001b[39m\n\u001b[1;32m    435\u001b[0m         \u001b[38;5;124m\"\u001b[39m\u001b[38;5;124mlisted on \u001b[39m\u001b[38;5;124m'\u001b[39m\u001b[38;5;124mhttps://huggingface.co/models\u001b[39m\u001b[38;5;124m'\u001b[39m\u001b[38;5;130;01m\\n\u001b[39;00m\u001b[38;5;124mIf this is a private repository, make sure to \u001b[39m\u001b[38;5;124m\"\u001b[39m\n\u001b[1;32m    436\u001b[0m         \u001b[38;5;124m\"\u001b[39m\u001b[38;5;124mpass a token having permission to this repo with `use_auth_token` or log in with \u001b[39m\u001b[38;5;124m\"\u001b[39m\n\u001b[1;32m    437\u001b[0m         \u001b[38;5;124m\"\u001b[39m\u001b[38;5;124m`huggingface-cli login` and pass `use_auth_token=True`.\u001b[39m\u001b[38;5;124m\"\u001b[39m\n\u001b[1;32m    438\u001b[0m     )\n\u001b[1;32m    439\u001b[0m \u001b[38;5;28;01mexcept\u001b[39;00m RevisionNotFoundError:\n\u001b[1;32m    440\u001b[0m     \u001b[38;5;28;01mraise\u001b[39;00m \u001b[38;5;167;01mEnvironmentError\u001b[39;00m(\n\u001b[1;32m    441\u001b[0m         \u001b[38;5;124mf\u001b[39m\u001b[38;5;124m\"\u001b[39m\u001b[38;5;132;01m{\u001b[39;00mrevision\u001b[38;5;132;01m}\u001b[39;00m\u001b[38;5;124m is not a valid git identifier (branch name, tag name or commit id) that exists \u001b[39m\u001b[38;5;124m\"\u001b[39m\n\u001b[1;32m    442\u001b[0m         \u001b[38;5;124m\"\u001b[39m\u001b[38;5;124mfor this model name. Check the model page at \u001b[39m\u001b[38;5;124m\"\u001b[39m\n\u001b[1;32m    443\u001b[0m         \u001b[38;5;124mf\u001b[39m\u001b[38;5;124m\"\u001b[39m\u001b[38;5;124m'\u001b[39m\u001b[38;5;124mhttps://huggingface.co/\u001b[39m\u001b[38;5;132;01m{\u001b[39;00mpath_or_repo_id\u001b[38;5;132;01m}\u001b[39;00m\u001b[38;5;124m'\u001b[39m\u001b[38;5;124m for available revisions.\u001b[39m\u001b[38;5;124m\"\u001b[39m\n\u001b[1;32m    444\u001b[0m     )\n",
      "\u001b[0;31mOSError\u001b[0m: None is not a local folder and is not a valid model identifier listed on 'https://huggingface.co/models'\nIf this is a private repository, make sure to pass a token having permission to this repo with `use_auth_token` or log in with `huggingface-cli login` and pass `use_auth_token=True`."
     ]
    }
   ],
   "source": [
    "# Load pretrained model and tokenizer\n",
    "#\n",
    "# Distributed training:\n",
    "# The .from_pretrained methods guarantee that only one local process can concurrently\n",
    "# download model & vocab.\n",
    "\n",
    "tokenizer = AutoTokenizer.from_pretrained(\n",
    "    model_args.tokenizer_name\n",
    "    cache_dir=model_args.cache_dir,\n",
    "    use_fast=True,\n",
    "    revision=model_args.model_revision,\n",
    "    use_auth_token=True if model_args.use_auth_token else None,\n",
    ")\n",
    "\n",
    "model = AutoModelForSeq2SeqLM.from_pretrained(\n",
    "    model_args.model_name_or_path,\n",
    ")"
   ]
  },
  {
   "cell_type": "code",
   "execution_count": null,
   "id": "e76d2d4b",
   "metadata": {},
   "outputs": [],
   "source": [
    "# Load the dataset, we are only using 1000 training examples and 100 test for now\n",
    "squad_dataset = datasets.load_dataset(data_args.dataset, split=[\"train[:1000]\",\"validation[:100]\"])\n",
    "squad_dataset = {\n",
    "    \"train\":squad_dataset[0],\n",
    "    \"validation\":squad_dataset[1],\n",
    "}"
   ]
  },
  {
   "cell_type": "code",
   "execution_count": null,
   "id": "a8ab41f6",
   "metadata": {},
   "outputs": [],
   "source": [
    "squad_dataset['train'][0]"
   ]
  },
  {
   "cell_type": "code",
   "execution_count": null,
   "id": "b7305475",
   "metadata": {
    "scrolled": false
   },
   "outputs": [],
   "source": [
    "max_seq_length = min(data_args.max_seq_length, tokenizer.model_max_length)\n",
    "\n",
    "data_files = {\n",
    "    \"train\": data_args.train_file,\n",
    "    \"validation\": data_args.validation_file\n",
    "}\n",
    "\n",
    "class SQUADWithQuestionAndContext(XFactSeq2SeqDataset):\n",
    "    def prepare_src(self, instance):\n",
    "        return instance[\"question\"] + \" - \" + instance[\"context\"]\n",
    "\n",
    "    def prepare_tgt(self, instance):\n",
    "        return instance[\"answers\"]['text'][0] or \"No Answer\"\n",
    "        \n",
    "loaded_datasets = {\n",
    "    split: SQUADWithQuestionAndContext(tokenizer,\n",
    "                                           squad_dataset[split],\n",
    "                                           max_seq_length,\n",
    "                                           name=split,\n",
    "                                           max_target_length=data_args.max_target_length)\n",
    "    for split, path in data_files.items()\n",
    "}\n"
   ]
  },
  {
   "cell_type": "code",
   "execution_count": null,
   "id": "13199e48",
   "metadata": {
    "scrolled": false
   },
   "outputs": [],
   "source": [
    "data_collator = lambda batch: XFactSeq2SeqDataset.collate_fn(model, batch, tokenizer.pad_token_id, data_args.ignore_pad_token_for_loss)\n",
    "\n",
    "def my_metrics_function(eval_predictions):\n",
    "    print(str(eval_predictions))\n",
    "    return {\"metric_name\":0}\n",
    "\n",
    "trainer = Seq2SeqTrainer(\n",
    "    model=model,\n",
    "    args=training_args,\n",
    "    train_dataset=loaded_datasets[\"train\"],\n",
    "    eval_dataset=loaded_datasets[\"validation\"],\n",
    "    tokenizer=tokenizer,\n",
    "    data_collator=data_collator,\n",
    "    compute_metrics=my_metrics_function,\n",
    ")\n",
    "\n",
    "\n",
    "train_result = trainer.train()\n",
    "trainer.save_model()\n",
    "\n",
    "metrics = train_result.metrics\n",
    "trainer.log_metrics(\"train\", metrics)\n",
    "trainer.save_metrics(\"train\", metrics)\n",
    "trainer.save_state()\n"
   ]
  },
  {
   "cell_type": "markdown",
   "id": "e93a2eb7",
   "metadata": {},
   "source": [
    "# Exercises\n",
    "\n",
    "## Seq2seq model T5\n",
    "1) Adapt the code to report the answer exact match accuracy (see `compute_metrics` function in HuggingFace Trainer)\n",
    "2) Compare a different version of the task, evaluating whether the model can accurately predict answers without the context paragraph. How does teh exact match answer accuracy change?\n",
    "3) Train a GENRE-style information retrieval system\n",
    "\n",
    "\n",
    "## Extension exercises\n",
    "\n",
    "1) Look at the Forward method in the T5Model class in HuggingFace (https://github.com/huggingface/transformers/blob/ee339bad01bf09266eba665c5f063f0ab7474dad/src/transformers/models/t5/modeling_t5.py#L1414). Explore the fusion in decoder library: https://github.com/facebookresearch/fid - How would you change this method to encode multiple passages separately?\n",
    "2) Download the FAISS library and adapt code from yesterday's lab to index the DPR-encoded contexts in FAISS and evaluate the speed-up"
   ]
  }
 ],
 "metadata": {
  "kernelspec": {
   "display_name": "Summer School",
   "language": "python",
   "name": "summerschool"
  },
  "language_info": {
   "codemirror_mode": {
    "name": "ipython",
    "version": 3
   },
   "file_extension": ".py",
   "mimetype": "text/x-python",
   "name": "python",
   "nbconvert_exporter": "python",
   "pygments_lexer": "ipython3",
   "version": "3.8.16"
  }
 },
 "nbformat": 4,
 "nbformat_minor": 5
}
